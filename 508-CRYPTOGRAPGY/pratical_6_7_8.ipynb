{
 "cells": [
  {
   "cell_type": "markdown",
   "id": "1215dffd",
   "metadata": {},
   "source": [
    "# Write a program to implement HMAC signatures."
   ]
  },
  {
   "cell_type": "code",
   "execution_count": 30,
   "id": "5d2ab578",
   "metadata": {},
   "outputs": [
    {
     "name": "stdout",
     "output_type": "stream",
     "text": [
      "Enter message:hii\n",
      "----Before Tampering----\n",
      "Is the message received without any tampering: True\n",
      "----After Tampering----\n",
      "Is the message received without any tampering: False\n"
     ]
    }
   ],
   "source": [
    "\n",
    "\n",
    "import hmac\n",
    "import hashlib\n",
    "import secrets\n",
    "#Initial sent message\n",
    "sent_msg = input('Enter message:')\n",
    "key = secrets.token_bytes(100)\n",
    "s_md_1 =hmac.new(key=key,msg=sent_msg.encode(),digestmod=hashlib.md5)\n",
    "init_msg_digest = s_md_1.hexdigest()\n",
    "\n",
    "# Received Message\n",
    "received = sent_msg\n",
    "r_md_1 =hmac.new(key=key,msg=received.encode(),digestmod=hashlib.md5)\n",
    "recv_msg_digest = r_md_1.hexdigest()\n",
    "#Comparing sent and received messages\n",
    "print(\"----Before Tampering----\")\n",
    "print('Is the message received without any tampering:',hmac.compare_digest(init_msg_digest,recv_msg_digest))\n",
    "\n",
    "#Tampered Message\n",
    "tampered_msg = sent_msg[1:]\n",
    "md_2 =hmac.new(key=key,msg=tampered_msg.encode(),digestmod=hashlib.md5)\n",
    "tampered_msg_digest = md_2.hexdigest()\n",
    "\n",
    "#Comparing after tampering\n",
    "print(\"----After Tampering----\")\n",
    "print('Is the message received without any tampering:',hmac.compare_digest(init_msg_digest,tampered_msg_digest))"
   ]
  },
  {
   "cell_type": "markdown",
   "id": "e1231fe1",
   "metadata": {},
   "source": [
    "# Write a program to implement -\n",
    "a. ElGamal Cryptosystem\n",
    "b. Euclidean Algorithm"
   ]
  },
  {
   "cell_type": "code",
   "execution_count": 31,
   "id": "11cfe96f",
   "metadata": {},
   "outputs": [
    {
     "name": "stdout",
     "output_type": "stream",
     "text": [
      "Enter 1st part of public key: 11\n",
      "Enter 2nd part of public key: 2\n",
      "Enter a private key: 3\n",
      "Enter a random integer key: 4\n",
      "Enter the plain text: 7\n",
      "Encrypted Text: (5, 6)\n",
      "Decrypted Text: 7\n"
     ]
    }
   ],
   "source": [
    "#ELGAMAL CRYPTOSYSTEM\n",
    "\n",
    "\n",
    "def generate_e2(e1, d, p):\n",
    "    e2 = (e1 ** d) % p\n",
    "    return e2\n",
    "\n",
    "def generate_c1(e1, r, p):\n",
    "    c1 = (e1 ** r) % p\n",
    "    return c1\n",
    "\n",
    "def generate_c2(pt, e2, r, p):\n",
    "    c2 = (pt * e2 ** r) % p\n",
    "    return c2\n",
    "\n",
    "def encryption(e1, d, p, r, pt):\n",
    "    e2 = generate_e2(e1, d, p)\n",
    "    c1 = generate_c1(e1, r, p)\n",
    "    c2 = generate_c2(pt, e2, r, p)\n",
    "    ct = (c1, c2)\n",
    "    return ct\n",
    "\n",
    "def decryption(c1, c2, d, p):\n",
    "    temp = c1 ** d % p\n",
    "    temp_inv = None\n",
    "    for i in range(1, p):\n",
    "        if (temp * i) % p == 1:\n",
    "            temp_inv = i\n",
    "            break\n",
    "    dpt = (c2 * temp_inv) % p\n",
    "    return dpt\n",
    "\n",
    "p = int(input(\"Enter 1st part of public key: \"))\n",
    "e1 = int(input(\"Enter 2nd part of public key: \"))\n",
    "d = int(input(\"Enter a private key: \"))\n",
    "r = int(input(\"Enter a random integer key: \"))\n",
    "pt = int(input(\"Enter the plain text: \"))\n",
    "\n",
    "e2 = generate_e2(e1, d, p)\n",
    "c1 = generate_c1(e1, r, p)\n",
    "c2 = generate_c2(pt, e2, r, p)\n",
    "\n",
    "encrypted_text = encryption(e1, d, p, r, pt)\n",
    "print('Encrypted Text:', encrypted_text)\n",
    "\n",
    "decrypted_text = decryption(c1, c2, d, p)\n",
    "print('Decrypted Text:', decrypted_text)\n"
   ]
  },
  {
   "cell_type": "code",
   "execution_count": 32,
   "id": "925a838a",
   "metadata": {},
   "outputs": [
    {
     "name": "stdout",
     "output_type": "stream",
     "text": [
      "Enter a :111\n",
      "Enter b:45\n",
      "GCD of a and b :  3\n"
     ]
    }
   ],
   "source": [
    "# EUCLIDEAN ALGORITHM\n",
    "\n",
    "def gcd(a,b):\n",
    "    if a==0:\n",
    "        return b\n",
    "    else:\n",
    "        return gcd(b%a,a)\n",
    "a=int(input('Enter a :'))\n",
    "b=int(input('Enter b:'))\n",
    "print('GCD of a and b : ',gcd(a,b))"
   ]
  },
  {
   "cell_type": "markdown",
   "id": "b974d2f0",
   "metadata": {},
   "source": [
    "# Program to implement RSA encryption/decryption."
   ]
  },
  {
   "cell_type": "code",
   "execution_count": 35,
   "id": "cbea21df",
   "metadata": {},
   "outputs": [
    {
     "name": "stdout",
     "output_type": "stream",
     "text": [
      "Enter the value of p (prime): 11\n",
      "Enter the value of q (prime): 3\n",
      "Enter the plain text to encrypt : hello\n",
      "Encrypted Text :  nllf\n",
      "Decrypted Text :  hello\n"
     ]
    }
   ],
   "source": [
    "def gcd(x, y):\n",
    "    if x > y:\n",
    "        small = y\n",
    "    else:\n",
    "        small = x\n",
    "    for i in range(1, small + 1):\n",
    "        if x % i == 0 and y % i == 0:\n",
    "            gcd = i\n",
    "    return gcd\n",
    "\n",
    "def generateKeys():\n",
    "    p = int(input('Enter the value of p (prime): '))\n",
    "    q = int(input('Enter the value of q (prime): '))\n",
    "    n = p * q\n",
    "    phi = (p - 1) * (q - 1)\n",
    "    e = 0\n",
    "    for i in range(2, phi):\n",
    "        if gcd(phi, i) == 1:\n",
    "            e = i\n",
    "            break\n",
    "    d = 0\n",
    "    for i in range(1, phi):\n",
    "        if (e * i) % phi == 1:\n",
    "            d = i\n",
    "            break\n",
    "    return (e, d, n)\n",
    "\n",
    "def encryptText(pt, e, n, numflag):\n",
    "    ct = ''\n",
    "    if numflag:\n",
    "        for letter in pt:\n",
    "            M = ord(letter) - 49\n",
    "            C = (M ** e) % n\n",
    "            ct += chr(C + 49)\n",
    "    else:\n",
    "        for letter in pt:\n",
    "            M = ord(letter) - 97\n",
    "            C = (M ** e) % n\n",
    "            ct += chr(C + 97)\n",
    "    print('Encrypted Text : ', ct)\n",
    "    return ct\n",
    "\n",
    "def decryptText(ct, d, n, numflag):\n",
    "    pt = ''\n",
    "    if numflag:\n",
    "        for letter in ct:\n",
    "            C = ord(letter) - 49\n",
    "            M = (C ** d) % n\n",
    "            pt += chr(M + 49)\n",
    "    else:\n",
    "        for letter in ct:\n",
    "            C = ord(letter) - 97\n",
    "            M = (C ** d) % n\n",
    "            pt += chr(M + 97)\n",
    "    print('Decrypted Text : ', pt)\n",
    "\n",
    "e, d, n = generateKeys()\n",
    "pt = input('Enter the plain text to encrypt : ')\n",
    "numflag = 1 if pt.isnumeric() else 0\n",
    "enc = encryptText(pt, e, n, numflag)\n",
    "decryptText(enc, d, n, numflag)\n"
   ]
  },
  {
   "cell_type": "code",
   "execution_count": null,
   "id": "eb10ae28",
   "metadata": {},
   "outputs": [],
   "source": []
  },
  {
   "cell_type": "code",
   "execution_count": null,
   "id": "ad03e14f",
   "metadata": {},
   "outputs": [],
   "source": []
  }
 ],
 "metadata": {
  "kernelspec": {
   "display_name": "Python 3 (ipykernel)",
   "language": "python",
   "name": "python3"
  },
  "language_info": {
   "codemirror_mode": {
    "name": "ipython",
    "version": 3
   },
   "file_extension": ".py",
   "mimetype": "text/x-python",
   "name": "python",
   "nbconvert_exporter": "python",
   "pygments_lexer": "ipython3",
   "version": "3.8.0"
  }
 },
 "nbformat": 4,
 "nbformat_minor": 5
}
